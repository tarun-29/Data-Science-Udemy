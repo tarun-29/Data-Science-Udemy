{
 "metadata": {
  "language_info": {
   "codemirror_mode": {
    "name": "ipython",
    "version": 3
   },
   "file_extension": ".py",
   "mimetype": "text/x-python",
   "name": "python",
   "nbconvert_exporter": "python",
   "pygments_lexer": "ipython3",
   "version": "3.7.7-final"
  },
  "orig_nbformat": 2,
  "kernelspec": {
   "name": "python_defaultSpec_1595310510355",
   "display_name": "Python 3.7.7 64-bit ('CVcourse': conda)"
  }
 },
 "nbformat": 4,
 "nbformat_minor": 2,
 "cells": [
  {
   "cell_type": "code",
   "execution_count": 1,
   "metadata": {},
   "outputs": [],
   "source": [
    "import numpy as np"
   ]
  },
  {
   "cell_type": "code",
   "execution_count": 2,
   "metadata": {},
   "outputs": [],
   "source": [
    "my_list = [1,2,3]"
   ]
  },
  {
   "cell_type": "code",
   "execution_count": 3,
   "metadata": {},
   "outputs": [],
   "source": [
    "arr = np.array(my_list)"
   ]
  },
  {
   "cell_type": "code",
   "execution_count": 4,
   "metadata": {},
   "outputs": [
    {
     "output_type": "execute_result",
     "data": {
      "text/plain": "array([1, 2, 3])"
     },
     "metadata": {},
     "execution_count": 4
    }
   ],
   "source": [
    "arr"
   ]
  },
  {
   "cell_type": "code",
   "execution_count": 5,
   "metadata": {},
   "outputs": [],
   "source": [
    "my_mat = [[1,2,3],[4,5,6],[7,8,9]]"
   ]
  },
  {
   "cell_type": "code",
   "execution_count": 6,
   "metadata": {},
   "outputs": [
    {
     "output_type": "execute_result",
     "data": {
      "text/plain": "array([[1, 2, 3],\n       [4, 5, 6],\n       [7, 8, 9]])"
     },
     "metadata": {},
     "execution_count": 6
    }
   ],
   "source": [
    "np.array(my_mat)"
   ]
  },
  {
   "cell_type": "code",
   "execution_count": 7,
   "metadata": {},
   "outputs": [
    {
     "output_type": "execute_result",
     "data": {
      "text/plain": "array([0, 1, 2, 3, 4, 5, 6, 7, 8, 9])"
     },
     "metadata": {},
     "execution_count": 7
    }
   ],
   "source": [
    "np.arange(0,10)"
   ]
  },
  {
   "cell_type": "code",
   "execution_count": 8,
   "metadata": {},
   "outputs": [
    {
     "output_type": "execute_result",
     "data": {
      "text/plain": "array([0., 0., 0.])"
     },
     "metadata": {},
     "execution_count": 8
    }
   ],
   "source": [
    "np.zeros(3)"
   ]
  },
  {
   "cell_type": "code",
   "execution_count": 9,
   "metadata": {},
   "outputs": [
    {
     "output_type": "execute_result",
     "data": {
      "text/plain": "array([[0., 0., 0., 0.],\n       [0., 0., 0., 0.]])"
     },
     "metadata": {},
     "execution_count": 9
    }
   ],
   "source": [
    "np.zeros((2,4))"
   ]
  },
  {
   "cell_type": "code",
   "execution_count": 10,
   "metadata": {},
   "outputs": [
    {
     "output_type": "execute_result",
     "data": {
      "text/plain": "array([0.        , 0.05050505, 0.1010101 , 0.15151515, 0.2020202 ,\n       0.25252525, 0.3030303 , 0.35353535, 0.4040404 , 0.45454545,\n       0.50505051, 0.55555556, 0.60606061, 0.65656566, 0.70707071,\n       0.75757576, 0.80808081, 0.85858586, 0.90909091, 0.95959596,\n       1.01010101, 1.06060606, 1.11111111, 1.16161616, 1.21212121,\n       1.26262626, 1.31313131, 1.36363636, 1.41414141, 1.46464646,\n       1.51515152, 1.56565657, 1.61616162, 1.66666667, 1.71717172,\n       1.76767677, 1.81818182, 1.86868687, 1.91919192, 1.96969697,\n       2.02020202, 2.07070707, 2.12121212, 2.17171717, 2.22222222,\n       2.27272727, 2.32323232, 2.37373737, 2.42424242, 2.47474747,\n       2.52525253, 2.57575758, 2.62626263, 2.67676768, 2.72727273,\n       2.77777778, 2.82828283, 2.87878788, 2.92929293, 2.97979798,\n       3.03030303, 3.08080808, 3.13131313, 3.18181818, 3.23232323,\n       3.28282828, 3.33333333, 3.38383838, 3.43434343, 3.48484848,\n       3.53535354, 3.58585859, 3.63636364, 3.68686869, 3.73737374,\n       3.78787879, 3.83838384, 3.88888889, 3.93939394, 3.98989899,\n       4.04040404, 4.09090909, 4.14141414, 4.19191919, 4.24242424,\n       4.29292929, 4.34343434, 4.39393939, 4.44444444, 4.49494949,\n       4.54545455, 4.5959596 , 4.64646465, 4.6969697 , 4.74747475,\n       4.7979798 , 4.84848485, 4.8989899 , 4.94949495, 5.        ])"
     },
     "metadata": {},
     "execution_count": 10
    }
   ],
   "source": [
    "np.linspace(0,5,100)"
   ]
  },
  {
   "cell_type": "code",
   "execution_count": 11,
   "metadata": {},
   "outputs": [
    {
     "output_type": "execute_result",
     "data": {
      "text/plain": "array([[1., 0., 0., 0.],\n       [0., 1., 0., 0.],\n       [0., 0., 1., 0.],\n       [0., 0., 0., 1.]])"
     },
     "metadata": {},
     "execution_count": 11
    }
   ],
   "source": [
    "np.eye(4)"
   ]
  },
  {
   "cell_type": "code",
   "execution_count": null,
   "metadata": {},
   "outputs": [],
   "source": []
  }
 ]
}