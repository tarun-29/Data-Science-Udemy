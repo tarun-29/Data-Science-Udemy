{
 "cells": [
  {
   "cell_type": "markdown",
   "metadata": {},
   "source": [
    "___\n",
    "\n",
    "<a href='http://www.pieriandata.com'> <img src='../../Pierian_Data_Logo.png' /></a>\n",
    "___"
   ]
  },
  {
   "cell_type": "markdown",
   "metadata": {},
   "source": [
    "# SF Salaries Exercise \n",
    "\n",
    "Welcome to a quick exercise for you to practice your pandas skills! We will be using the [SF Salaries Dataset](https://www.kaggle.com/kaggle/sf-salaries) from Kaggle! Just follow along and complete the tasks outlined in bold below. The tasks will get harder and harder as you go along."
   ]
  },
  {
   "cell_type": "markdown",
   "metadata": {},
   "source": [
    "** Import pandas as pd.**"
   ]
  },
  {
   "cell_type": "code",
   "execution_count": 3,
   "metadata": {
    "collapsed": true
   },
   "outputs": [],
   "source": [
    "import pandas as pd"
   ]
  },
  {
   "cell_type": "markdown",
   "metadata": {},
   "source": [
    "** Read Salaries.csv as a dataframe called sal.**"
   ]
  },
  {
   "cell_type": "code",
   "execution_count": 4,
   "metadata": {
    "collapsed": false
   },
   "outputs": [],
   "source": [
    "sal = pd.read_csv(\"Salaries.csv\")"
   ]
  },
  {
   "cell_type": "code",
   "execution_count": 5,
   "metadata": {},
   "outputs": [
    {
     "output_type": "execute_result",
     "data": {
      "text/plain": "            Id       EmployeeName  \\\n0            1     NATHANIEL FORD   \n1            2       GARY JIMENEZ   \n2            3     ALBERT PARDINI   \n3            4  CHRISTOPHER CHONG   \n4            5    PATRICK GARDNER   \n...        ...                ...   \n148649  148650      Roy I Tillery   \n148650  148651       Not provided   \n148651  148652       Not provided   \n148652  148653       Not provided   \n148653  148654          Joe Lopez   \n\n                                              JobTitle    BasePay  \\\n0       GENERAL MANAGER-METROPOLITAN TRANSIT AUTHORITY  167411.18   \n1                      CAPTAIN III (POLICE DEPARTMENT)  155966.02   \n2                      CAPTAIN III (POLICE DEPARTMENT)  212739.13   \n3                 WIRE ROPE CABLE MAINTENANCE MECHANIC   77916.00   \n4         DEPUTY CHIEF OF DEPARTMENT,(FIRE DEPARTMENT)  134401.60   \n...                                                ...        ...   \n148649                                       Custodian       0.00   \n148650                                    Not provided        NaN   \n148651                                    Not provided        NaN   \n148652                                    Not provided        NaN   \n148653                      Counselor, Log Cabin Ranch       0.00   \n\n        OvertimePay   OtherPay  Benefits   TotalPay  TotalPayBenefits  Year  \\\n0              0.00  400184.25       NaN  567595.43         567595.43  2011   \n1         245131.88  137811.38       NaN  538909.28         538909.28  2011   \n2         106088.18   16452.60       NaN  335279.91         335279.91  2011   \n3          56120.71  198306.90       NaN  332343.61         332343.61  2011   \n4           9737.00  182234.59       NaN  326373.19         326373.19  2011   \n...             ...        ...       ...        ...               ...   ...   \n148649         0.00       0.00       0.0       0.00              0.00  2014   \n148650          NaN        NaN       NaN       0.00              0.00  2014   \n148651          NaN        NaN       NaN       0.00              0.00  2014   \n148652          NaN        NaN       NaN       0.00              0.00  2014   \n148653         0.00    -618.13       0.0    -618.13           -618.13  2014   \n\n        Notes         Agency  Status  \n0         NaN  San Francisco     NaN  \n1         NaN  San Francisco     NaN  \n2         NaN  San Francisco     NaN  \n3         NaN  San Francisco     NaN  \n4         NaN  San Francisco     NaN  \n...       ...            ...     ...  \n148649    NaN  San Francisco     NaN  \n148650    NaN  San Francisco     NaN  \n148651    NaN  San Francisco     NaN  \n148652    NaN  San Francisco     NaN  \n148653    NaN  San Francisco     NaN  \n\n[148654 rows x 13 columns]",
      "text/html": "<div>\n<style scoped>\n    .dataframe tbody tr th:only-of-type {\n        vertical-align: middle;\n    }\n\n    .dataframe tbody tr th {\n        vertical-align: top;\n    }\n\n    .dataframe thead th {\n        text-align: right;\n    }\n</style>\n<table border=\"1\" class=\"dataframe\">\n  <thead>\n    <tr style=\"text-align: right;\">\n      <th></th>\n      <th>Id</th>\n      <th>EmployeeName</th>\n      <th>JobTitle</th>\n      <th>BasePay</th>\n      <th>OvertimePay</th>\n      <th>OtherPay</th>\n      <th>Benefits</th>\n      <th>TotalPay</th>\n      <th>TotalPayBenefits</th>\n      <th>Year</th>\n      <th>Notes</th>\n      <th>Agency</th>\n      <th>Status</th>\n    </tr>\n  </thead>\n  <tbody>\n    <tr>\n      <th>0</th>\n      <td>1</td>\n      <td>NATHANIEL FORD</td>\n      <td>GENERAL MANAGER-METROPOLITAN TRANSIT AUTHORITY</td>\n      <td>167411.18</td>\n      <td>0.00</td>\n      <td>400184.25</td>\n      <td>NaN</td>\n      <td>567595.43</td>\n      <td>567595.43</td>\n      <td>2011</td>\n      <td>NaN</td>\n      <td>San Francisco</td>\n      <td>NaN</td>\n    </tr>\n    <tr>\n      <th>1</th>\n      <td>2</td>\n      <td>GARY JIMENEZ</td>\n      <td>CAPTAIN III (POLICE DEPARTMENT)</td>\n      <td>155966.02</td>\n      <td>245131.88</td>\n      <td>137811.38</td>\n      <td>NaN</td>\n      <td>538909.28</td>\n      <td>538909.28</td>\n      <td>2011</td>\n      <td>NaN</td>\n      <td>San Francisco</td>\n      <td>NaN</td>\n    </tr>\n    <tr>\n      <th>2</th>\n      <td>3</td>\n      <td>ALBERT PARDINI</td>\n      <td>CAPTAIN III (POLICE DEPARTMENT)</td>\n      <td>212739.13</td>\n      <td>106088.18</td>\n      <td>16452.60</td>\n      <td>NaN</td>\n      <td>335279.91</td>\n      <td>335279.91</td>\n      <td>2011</td>\n      <td>NaN</td>\n      <td>San Francisco</td>\n      <td>NaN</td>\n    </tr>\n    <tr>\n      <th>3</th>\n      <td>4</td>\n      <td>CHRISTOPHER CHONG</td>\n      <td>WIRE ROPE CABLE MAINTENANCE MECHANIC</td>\n      <td>77916.00</td>\n      <td>56120.71</td>\n      <td>198306.90</td>\n      <td>NaN</td>\n      <td>332343.61</td>\n      <td>332343.61</td>\n      <td>2011</td>\n      <td>NaN</td>\n      <td>San Francisco</td>\n      <td>NaN</td>\n    </tr>\n    <tr>\n      <th>4</th>\n      <td>5</td>\n      <td>PATRICK GARDNER</td>\n      <td>DEPUTY CHIEF OF DEPARTMENT,(FIRE DEPARTMENT)</td>\n      <td>134401.60</td>\n      <td>9737.00</td>\n      <td>182234.59</td>\n      <td>NaN</td>\n      <td>326373.19</td>\n      <td>326373.19</td>\n      <td>2011</td>\n      <td>NaN</td>\n      <td>San Francisco</td>\n      <td>NaN</td>\n    </tr>\n    <tr>\n      <th>...</th>\n      <td>...</td>\n      <td>...</td>\n      <td>...</td>\n      <td>...</td>\n      <td>...</td>\n      <td>...</td>\n      <td>...</td>\n      <td>...</td>\n      <td>...</td>\n      <td>...</td>\n      <td>...</td>\n      <td>...</td>\n      <td>...</td>\n    </tr>\n    <tr>\n      <th>148649</th>\n      <td>148650</td>\n      <td>Roy I Tillery</td>\n      <td>Custodian</td>\n      <td>0.00</td>\n      <td>0.00</td>\n      <td>0.00</td>\n      <td>0.0</td>\n      <td>0.00</td>\n      <td>0.00</td>\n      <td>2014</td>\n      <td>NaN</td>\n      <td>San Francisco</td>\n      <td>NaN</td>\n    </tr>\n    <tr>\n      <th>148650</th>\n      <td>148651</td>\n      <td>Not provided</td>\n      <td>Not provided</td>\n      <td>NaN</td>\n      <td>NaN</td>\n      <td>NaN</td>\n      <td>NaN</td>\n      <td>0.00</td>\n      <td>0.00</td>\n      <td>2014</td>\n      <td>NaN</td>\n      <td>San Francisco</td>\n      <td>NaN</td>\n    </tr>\n    <tr>\n      <th>148651</th>\n      <td>148652</td>\n      <td>Not provided</td>\n      <td>Not provided</td>\n      <td>NaN</td>\n      <td>NaN</td>\n      <td>NaN</td>\n      <td>NaN</td>\n      <td>0.00</td>\n      <td>0.00</td>\n      <td>2014</td>\n      <td>NaN</td>\n      <td>San Francisco</td>\n      <td>NaN</td>\n    </tr>\n    <tr>\n      <th>148652</th>\n      <td>148653</td>\n      <td>Not provided</td>\n      <td>Not provided</td>\n      <td>NaN</td>\n      <td>NaN</td>\n      <td>NaN</td>\n      <td>NaN</td>\n      <td>0.00</td>\n      <td>0.00</td>\n      <td>2014</td>\n      <td>NaN</td>\n      <td>San Francisco</td>\n      <td>NaN</td>\n    </tr>\n    <tr>\n      <th>148653</th>\n      <td>148654</td>\n      <td>Joe Lopez</td>\n      <td>Counselor, Log Cabin Ranch</td>\n      <td>0.00</td>\n      <td>0.00</td>\n      <td>-618.13</td>\n      <td>0.0</td>\n      <td>-618.13</td>\n      <td>-618.13</td>\n      <td>2014</td>\n      <td>NaN</td>\n      <td>San Francisco</td>\n      <td>NaN</td>\n    </tr>\n  </tbody>\n</table>\n<p>148654 rows × 13 columns</p>\n</div>"
     },
     "metadata": {},
     "execution_count": 5
    }
   ],
   "source": [
    "sal"
   ]
  },
  {
   "cell_type": "markdown",
   "metadata": {},
   "source": [
    "** Use the .info() method to find out how many entries there are.**"
   ]
  },
  {
   "cell_type": "code",
   "execution_count": 6,
   "metadata": {
    "tags": []
   },
   "outputs": [
    {
     "output_type": "stream",
     "name": "stdout",
     "text": "<class 'pandas.core.frame.DataFrame'>\nRangeIndex: 148654 entries, 0 to 148653\nData columns (total 13 columns):\n #   Column            Non-Null Count   Dtype  \n---  ------            --------------   -----  \n 0   Id                148654 non-null  int64  \n 1   EmployeeName      148654 non-null  object \n 2   JobTitle          148654 non-null  object \n 3   BasePay           148045 non-null  float64\n 4   OvertimePay       148650 non-null  float64\n 5   OtherPay          148650 non-null  float64\n 6   Benefits          112491 non-null  float64\n 7   TotalPay          148654 non-null  float64\n 8   TotalPayBenefits  148654 non-null  float64\n 9   Year              148654 non-null  int64  \n 10  Notes             0 non-null       float64\n 11  Agency            148654 non-null  object \n 12  Status            0 non-null       float64\ndtypes: float64(8), int64(2), object(3)\nmemory usage: 14.7+ MB\n"
    }
   ],
   "source": [
    "sal.info()"
   ]
  },
  {
   "cell_type": "markdown",
   "metadata": {},
   "source": [
    "**What is the average BasePay ?**"
   ]
  },
  {
   "cell_type": "code",
   "execution_count": 7,
   "metadata": {
    "collapsed": false
   },
   "outputs": [
    {
     "output_type": "execute_result",
     "data": {
      "text/plain": "66325.4488404877"
     },
     "metadata": {},
     "execution_count": 7
    }
   ],
   "source": [
    "sal['BasePay'].mean()"
   ]
  },
  {
   "cell_type": "markdown",
   "metadata": {},
   "source": [
    "** What is the highest amount of OvertimePay in the dataset ? **"
   ]
  },
  {
   "cell_type": "code",
   "execution_count": 8,
   "metadata": {
    "collapsed": false
   },
   "outputs": [
    {
     "output_type": "execute_result",
     "data": {
      "text/plain": "5066.059886444667"
     },
     "metadata": {},
     "execution_count": 8
    }
   ],
   "source": [
    "sal['OvertimePay'].mean()"
   ]
  },
  {
   "cell_type": "markdown",
   "metadata": {},
   "source": [
    "** What is the job title of  JOSEPH DRISCOLL ? Note: Use all caps, otherwise you may get an answer that doesn't match up (there is also a lowercase Joseph Driscoll). **"
   ]
  },
  {
   "cell_type": "code",
   "execution_count": 14,
   "metadata": {
    "collapsed": false
   },
   "outputs": [
    {
     "output_type": "execute_result",
     "data": {
      "text/plain": "24    CAPTAIN, FIRE SUPPRESSION\nName: JobTitle, dtype: object"
     },
     "metadata": {},
     "execution_count": 14
    }
   ],
   "source": [
    "sal[sal['EmployeeName'] == \"JOSEPH DRISCOLL\"][\"JobTitle\"]"
   ]
  },
  {
   "cell_type": "markdown",
   "metadata": {},
   "source": [
    "** How much does JOSEPH DRISCOLL make (including benefits)? **"
   ]
  },
  {
   "cell_type": "code",
   "execution_count": 17,
   "metadata": {
    "collapsed": false
   },
   "outputs": [
    {
     "output_type": "execute_result",
     "data": {
      "text/plain": "24    270324.91\nName: TotalPayBenefits, dtype: float64"
     },
     "metadata": {},
     "execution_count": 17
    }
   ],
   "source": [
    "sal[sal['EmployeeName'] == \"JOSEPH DRISCOLL\"][\"TotalPayBenefits\"]"
   ]
  },
  {
   "cell_type": "markdown",
   "metadata": {},
   "source": [
    "** What is the name of highest paid person (including benefits)?**"
   ]
  },
  {
   "cell_type": "code",
   "execution_count": 20,
   "metadata": {
    "collapsed": false
   },
   "outputs": [
    {
     "output_type": "execute_result",
     "data": {
      "text/plain": "0    NATHANIEL FORD\nName: EmployeeName, dtype: object"
     },
     "metadata": {},
     "execution_count": 20
    }
   ],
   "source": [
    "sal[sal[\"TotalPayBenefits\"]==sal[\"TotalPayBenefits\"].max()][\"EmployeeName\"]"
   ]
  },
  {
   "cell_type": "markdown",
   "metadata": {},
   "source": [
    "** What is the name of lowest paid person (including benefits)? Do you notice something strange about how much he or she is paid?**"
   ]
  },
  {
   "cell_type": "code",
   "execution_count": 22,
   "metadata": {
    "collapsed": false
   },
   "outputs": [
    {
     "output_type": "execute_result",
     "data": {
      "text/plain": "            Id EmployeeName                    JobTitle  BasePay  OvertimePay  \\\n148653  148654    Joe Lopez  Counselor, Log Cabin Ranch      0.0          0.0   \n\n        OtherPay  Benefits  TotalPay  TotalPayBenefits  Year  Notes  \\\n148653   -618.13       0.0   -618.13           -618.13  2014    NaN   \n\n               Agency  Status  \n148653  San Francisco     NaN  ",
      "text/html": "<div>\n<style scoped>\n    .dataframe tbody tr th:only-of-type {\n        vertical-align: middle;\n    }\n\n    .dataframe tbody tr th {\n        vertical-align: top;\n    }\n\n    .dataframe thead th {\n        text-align: right;\n    }\n</style>\n<table border=\"1\" class=\"dataframe\">\n  <thead>\n    <tr style=\"text-align: right;\">\n      <th></th>\n      <th>Id</th>\n      <th>EmployeeName</th>\n      <th>JobTitle</th>\n      <th>BasePay</th>\n      <th>OvertimePay</th>\n      <th>OtherPay</th>\n      <th>Benefits</th>\n      <th>TotalPay</th>\n      <th>TotalPayBenefits</th>\n      <th>Year</th>\n      <th>Notes</th>\n      <th>Agency</th>\n      <th>Status</th>\n    </tr>\n  </thead>\n  <tbody>\n    <tr>\n      <th>148653</th>\n      <td>148654</td>\n      <td>Joe Lopez</td>\n      <td>Counselor, Log Cabin Ranch</td>\n      <td>0.0</td>\n      <td>0.0</td>\n      <td>-618.13</td>\n      <td>0.0</td>\n      <td>-618.13</td>\n      <td>-618.13</td>\n      <td>2014</td>\n      <td>NaN</td>\n      <td>San Francisco</td>\n      <td>NaN</td>\n    </tr>\n  </tbody>\n</table>\n</div>"
     },
     "metadata": {},
     "execution_count": 22
    }
   ],
   "source": [
    "sal[sal[\"TotalPayBenefits\"]==sal[\"TotalPayBenefits\"].min()]"
   ]
  },
  {
   "cell_type": "markdown",
   "metadata": {},
   "source": [
    "** What was the average (mean) BasePay of all employees per year? (2011-2014) ? **"
   ]
  },
  {
   "cell_type": "code",
   "execution_count": 23,
   "metadata": {
    "collapsed": false
   },
   "outputs": [
    {
     "output_type": "execute_result",
     "data": {
      "text/plain": "Year\n2011    63595.956517\n2012    65436.406857\n2013    69630.030216\n2014    66564.421924\nName: BasePay, dtype: float64"
     },
     "metadata": {},
     "execution_count": 23
    }
   ],
   "source": [
    "sal.groupby('Year').mean()['BasePay']"
   ]
  },
  {
   "cell_type": "markdown",
   "metadata": {},
   "source": [
    "** How many unique job titles are there? **"
   ]
  },
  {
   "cell_type": "code",
   "execution_count": 24,
   "metadata": {
    "collapsed": false
   },
   "outputs": [
    {
     "output_type": "execute_result",
     "data": {
      "text/plain": "2159"
     },
     "metadata": {},
     "execution_count": 24
    }
   ],
   "source": [
    "sal['JobTitle'].nunique()"
   ]
  },
  {
   "cell_type": "markdown",
   "metadata": {},
   "source": [
    "** What are the top 5 most common jobs? **"
   ]
  },
  {
   "cell_type": "code",
   "execution_count": 25,
   "metadata": {
    "collapsed": false
   },
   "outputs": [
    {
     "output_type": "execute_result",
     "data": {
      "text/plain": "Transit Operator                7036\nSpecial Nurse                   4389\nRegistered Nurse                3736\nPublic Svc Aide-Public Works    2518\nPolice Officer 3                2421\nName: JobTitle, dtype: int64"
     },
     "metadata": {},
     "execution_count": 25
    }
   ],
   "source": [
    "sal['JobTitle'].value_counts().head(5)"
   ]
  },
  {
   "cell_type": "markdown",
   "metadata": {},
   "source": [
    "** How many Job Titles were represented by only one person in 2013? (e.g. Job Titles with only one occurence in 2013?) **"
   ]
  },
  {
   "cell_type": "code",
   "execution_count": 26,
   "metadata": {
    "collapsed": false
   },
   "outputs": [
    {
     "output_type": "execute_result",
     "data": {
      "text/plain": "202"
     },
     "metadata": {},
     "execution_count": 26
    }
   ],
   "source": [
    "sum(sal[sal['Year']==2013]['JobTitle'].value_counts() == 1) # pretty tricky way to do this..."
   ]
  },
  {
   "cell_type": "markdown",
   "metadata": {},
   "source": [
    "** How many people have the word Chief in their job title? (This is pretty tricky) **"
   ]
  },
  {
   "cell_type": "code",
   "execution_count": 27,
   "metadata": {},
   "outputs": [],
   "source": [
    "def chief_string(title):\n",
    "    if 'chief' in title.lower():\n",
    "        return True\n",
    "    else:\n",
    "        return False"
   ]
  },
  {
   "cell_type": "code",
   "execution_count": 28,
   "metadata": {
    "collapsed": true
   },
   "outputs": [
    {
     "output_type": "execute_result",
     "data": {
      "text/plain": "627"
     },
     "metadata": {},
     "execution_count": 28
    }
   ],
   "source": [
    "sum(sal['JobTitle'].apply(lambda x: chief_string(x) ))"
   ]
  },
  {
   "cell_type": "markdown",
   "metadata": {},
   "source": [
    "** Bonus: Is there a correlation between length of the Job Title string and Salary? **"
   ]
  },
  {
   "cell_type": "code",
   "execution_count": 29,
   "metadata": {
    "collapsed": false
   },
   "outputs": [],
   "source": [
    "sal['title_len'] = sal['JobTitle'].apply(len)"
   ]
  },
  {
   "cell_type": "code",
   "execution_count": 30,
   "metadata": {
    "collapsed": false
   },
   "outputs": [
    {
     "output_type": "execute_result",
     "data": {
      "text/plain": "                  title_len  TotalPayBenefits\ntitle_len          1.000000         -0.036878\nTotalPayBenefits  -0.036878          1.000000",
      "text/html": "<div>\n<style scoped>\n    .dataframe tbody tr th:only-of-type {\n        vertical-align: middle;\n    }\n\n    .dataframe tbody tr th {\n        vertical-align: top;\n    }\n\n    .dataframe thead th {\n        text-align: right;\n    }\n</style>\n<table border=\"1\" class=\"dataframe\">\n  <thead>\n    <tr style=\"text-align: right;\">\n      <th></th>\n      <th>title_len</th>\n      <th>TotalPayBenefits</th>\n    </tr>\n  </thead>\n  <tbody>\n    <tr>\n      <th>title_len</th>\n      <td>1.000000</td>\n      <td>-0.036878</td>\n    </tr>\n    <tr>\n      <th>TotalPayBenefits</th>\n      <td>-0.036878</td>\n      <td>1.000000</td>\n    </tr>\n  </tbody>\n</table>\n</div>"
     },
     "metadata": {},
     "execution_count": 30
    }
   ],
   "source": [
    "sal[['title_len','TotalPayBenefits']].corr() # No correlation."
   ]
  },
  {
   "cell_type": "markdown",
   "metadata": {},
   "source": [
    "# Great Job!"
   ]
  }
 ],
 "metadata": {
  "kernelspec": {
   "display_name": "Python 3.7.7 64-bit ('CVcourse': conda)",
   "language": "python",
   "name": "python_defaultSpec_1595359409862"
  },
  "language_info": {
   "codemirror_mode": {
    "name": "ipython",
    "version": 3
   },
   "file_extension": ".py",
   "mimetype": "text/x-python",
   "name": "python",
   "nbconvert_exporter": "python",
   "pygments_lexer": "ipython3",
   "version": "3.7.7-final"
  }
 },
 "nbformat": 4,
 "nbformat_minor": 0
}